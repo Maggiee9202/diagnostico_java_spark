{
 "cells": [
  {
   "cell_type": "code",
   "execution_count": 3,
   "id": "3267ad1e",
   "metadata": {},
   "outputs": [
    {
     "name": "stdout",
     "output_type": "stream",
     "text": [
      "DataFrame Original\n",
      "       sofifa_id                                         player_url  \\\n",
      "0         158023  https://sofifa.com/player/158023/lionel-messi/...   \n",
      "1          20801  https://sofifa.com/player/20801/c-ronaldo-dos-...   \n",
      "2         200389  https://sofifa.com/player/200389/jan-oblak/210002   \n",
      "3         188545  https://sofifa.com/player/188545/robert-lewand...   \n",
      "4         190871  https://sofifa.com/player/190871/neymar-da-sil...   \n",
      "...          ...                                                ...   \n",
      "18939     256679  https://sofifa.com/player/256679/kevin-angulo/...   \n",
      "18940     257710  https://sofifa.com/player/257710/mengxuan-zhan...   \n",
      "18941     250989  https://sofifa.com/player/250989/zhenghao-wang...   \n",
      "18942     257697  https://sofifa.com/player/257697/zitong-chen/2...   \n",
      "18943     257936   https://sofifa.com/player/257936/yue-song/210002   \n",
      "\n",
      "              short_name                            long_name  age  \\\n",
      "0               L. Messi       Lionel Andrés Messi Cuccittini   33   \n",
      "1      Cristiano Ronaldo  Cristiano Ronaldo dos Santos Aveiro   35   \n",
      "2               J. Oblak                            Jan Oblak   27   \n",
      "3         R. Lewandowski                   Robert Lewandowski   31   \n",
      "4              Neymar Jr        Neymar da Silva Santos Júnior   28   \n",
      "...                  ...                                  ...  ...   \n",
      "18939          K. Angulo                         Kevin Angulo   24   \n",
      "18940     Zhang Mengxuan                       Mengxuan Zhang   21   \n",
      "18941      Wang Zhenghao                                  王政豪   20   \n",
      "18942        Chen Zitong                          Zitong Chen   23   \n",
      "18943           Song Yue                             Yue Song   28   \n",
      "\n",
      "              dob  height_cm  weight_kg nationality  \\\n",
      "0      1987-06-24        170         72   Argentina   \n",
      "1      1985-02-05        187         83    Portugal   \n",
      "2      1993-01-07        188         87    Slovenia   \n",
      "3      1988-08-21        184         80      Poland   \n",
      "4      1992-02-05        175         68      Brazil   \n",
      "...           ...        ...        ...         ...   \n",
      "18939  1996-04-13        176         73    Colombia   \n",
      "18940  1999-04-26        177         70    China PR   \n",
      "18941  2000-06-28        185         74    China PR   \n",
      "18942  1997-02-20        186         80    China PR   \n",
      "18943  1991-11-20        185         79    China PR   \n",
      "\n",
      "                                 club_name  ...   lwb   ldm   cdm   rdm   rwb  \\\n",
      "0                             FC Barcelona  ...  66+3  65+3  65+3  65+3  66+3   \n",
      "1                                 Juventus  ...  65+3  61+3  61+3  61+3  65+3   \n",
      "2                          Atlético Madrid  ...  32+3  36+3  36+3  36+3  32+3   \n",
      "3                        FC Bayern München  ...  64+3  65+3  65+3  65+3  64+3   \n",
      "4                      Paris Saint-Germain  ...  67+3  62+3  62+3  62+3  67+3   \n",
      "...                                    ...  ...   ...   ...   ...   ...   ...   \n",
      "18939                      América de Cali  ...  47+2  47+2  47+2  47+2  47+2   \n",
      "18940  Chongqing Dangdai Lifan FC SWM Team  ...  42+2  41+2  41+2  41+2  42+2   \n",
      "18941                      Tianjin TEDA FC  ...  42+2  42+2  42+2  42+2  42+2   \n",
      "18942        Shijiazhuang Ever Bright F.C.  ...  47+2  49+2  49+2  49+2  47+2   \n",
      "18943                      Tianjin TEDA FC  ...  47+0  47+0  47+0  47+0  47+0   \n",
      "\n",
      "         lb   lcb    cb   rcb    rb  \n",
      "0      62+3  52+3  52+3  52+3  62+3  \n",
      "1      61+3  54+3  54+3  54+3  61+3  \n",
      "2      32+3  33+3  33+3  33+3  32+3  \n",
      "3      61+3  60+3  60+3  60+3  61+3  \n",
      "4      62+3  49+3  49+3  49+3  62+3  \n",
      "...     ...   ...   ...   ...   ...  \n",
      "18939  47+2  46+2  46+2  46+2  47+2  \n",
      "18940  45+2  47+2  47+2  47+2  45+2  \n",
      "18941  44+2  47+2  47+2  47+2  44+2  \n",
      "18942  47+2  49+2  49+2  49+2  47+2  \n",
      "18943  47+0  46+1  46+1  46+1  47+0  \n",
      "\n",
      "[18944 rows x 106 columns]\n"
     ]
    }
   ],
   "source": [
    "import pandas as pd\n",
    "datos = pd.read_csv('players_21.csv')\n",
    "df=pd.DataFrame(datos)\n",
    "print(\"DataFrame Original\")\n",
    "print(df)"
   ]
  },
  {
   "cell_type": "code",
   "execution_count": 4,
   "id": "e0f108d4",
   "metadata": {},
   "outputs": [
    {
     "ename": "AttributeError",
     "evalue": "'DataFrame' object has no attribute 'withColumn'",
     "output_type": "error",
     "traceback": [
      "\u001b[1;31m---------------------------------------------------------------------------\u001b[0m",
      "\u001b[1;31mAttributeError\u001b[0m                            Traceback (most recent call last)",
      "Input \u001b[1;32mIn [4]\u001b[0m, in \u001b[0;36m<cell line: 1>\u001b[1;34m()\u001b[0m\n\u001b[1;32m----> 1\u001b[0m df\u001b[38;5;241m=\u001b[39m \u001b[43mdf\u001b[49m\u001b[38;5;241;43m.\u001b[39;49m\u001b[43mwithColumn\u001b[49m(rank_by_nationality_position\u001b[38;5;241m.\u001b[39mgetName(),row_number()\u001b[38;5;241m.\u001b[39mover(Window\u001b[38;5;241m.\u001b[39mpartitionBy(nationality\u001b[38;5;241m.\u001b[39mcolumn())\u001b[38;5;241m.\u001b[39morderBy(overall \u001b[38;5;241m.\u001b[39mcolumn()\u001b[38;5;241m.\u001b[39mdesc())))\n",
      "File \u001b[1;32m~\\anaconda3\\lib\\site-packages\\pandas\\core\\generic.py:5575\u001b[0m, in \u001b[0;36mNDFrame.__getattr__\u001b[1;34m(self, name)\u001b[0m\n\u001b[0;32m   5568\u001b[0m \u001b[38;5;28;01mif\u001b[39;00m (\n\u001b[0;32m   5569\u001b[0m     name \u001b[38;5;129;01mnot\u001b[39;00m \u001b[38;5;129;01min\u001b[39;00m \u001b[38;5;28mself\u001b[39m\u001b[38;5;241m.\u001b[39m_internal_names_set\n\u001b[0;32m   5570\u001b[0m     \u001b[38;5;129;01mand\u001b[39;00m name \u001b[38;5;129;01mnot\u001b[39;00m \u001b[38;5;129;01min\u001b[39;00m \u001b[38;5;28mself\u001b[39m\u001b[38;5;241m.\u001b[39m_metadata\n\u001b[0;32m   5571\u001b[0m     \u001b[38;5;129;01mand\u001b[39;00m name \u001b[38;5;129;01mnot\u001b[39;00m \u001b[38;5;129;01min\u001b[39;00m \u001b[38;5;28mself\u001b[39m\u001b[38;5;241m.\u001b[39m_accessors\n\u001b[0;32m   5572\u001b[0m     \u001b[38;5;129;01mand\u001b[39;00m \u001b[38;5;28mself\u001b[39m\u001b[38;5;241m.\u001b[39m_info_axis\u001b[38;5;241m.\u001b[39m_can_hold_identifiers_and_holds_name(name)\n\u001b[0;32m   5573\u001b[0m ):\n\u001b[0;32m   5574\u001b[0m     \u001b[38;5;28;01mreturn\u001b[39;00m \u001b[38;5;28mself\u001b[39m[name]\n\u001b[1;32m-> 5575\u001b[0m \u001b[38;5;28;01mreturn\u001b[39;00m \u001b[38;5;28;43mobject\u001b[39;49m\u001b[38;5;241;43m.\u001b[39;49m\u001b[38;5;21;43m__getattribute__\u001b[39;49m\u001b[43m(\u001b[49m\u001b[38;5;28;43mself\u001b[39;49m\u001b[43m,\u001b[49m\u001b[43m \u001b[49m\u001b[43mname\u001b[49m\u001b[43m)\u001b[49m\n",
      "\u001b[1;31mAttributeError\u001b[0m: 'DataFrame' object has no attribute 'withColumn'"
     ]
    }
   ],
   "source": [
    "df= df.withColumn(rank_by_nationality_position.getName(),row_number().over(Window.partitionBy(nationality.column()).orderBy(overall .column().desc())));\n",
    "    \n"
   ]
  },
  {
   "cell_type": "code",
   "execution_count": 7,
   "id": "5e93572c",
   "metadata": {},
   "outputs": [
    {
     "ename": "TypeError",
     "evalue": "data is already a DataFrame",
     "output_type": "error",
     "traceback": [
      "\u001b[1;31m---------------------------------------------------------------------------\u001b[0m",
      "\u001b[1;31mTypeError\u001b[0m                                 Traceback (most recent call last)",
      "Input \u001b[1;32mIn [7]\u001b[0m, in \u001b[0;36m<cell line: 7>\u001b[1;34m()\u001b[0m\n\u001b[0;32m      5\u001b[0m spark \u001b[38;5;241m=\u001b[39m SparkSession\u001b[38;5;241m.\u001b[39mbuilder\u001b[38;5;241m.\u001b[39mappName(\u001b[38;5;124m'\u001b[39m\u001b[38;5;124mpandasToSparkDF\u001b[39m\u001b[38;5;124m'\u001b[39m)\u001b[38;5;241m.\u001b[39mgetOrCreate()\n\u001b[0;32m      6\u001b[0m datos \u001b[38;5;241m=\u001b[39m spark\u001b[38;5;241m.\u001b[39mread\u001b[38;5;241m.\u001b[39mcsv(\u001b[38;5;124m'\u001b[39m\u001b[38;5;124mplayers_21.csv\u001b[39m\u001b[38;5;124m'\u001b[39m)\n\u001b[1;32m----> 7\u001b[0m df \u001b[38;5;241m=\u001b[39m \u001b[43mspark\u001b[49m\u001b[38;5;241;43m.\u001b[39;49m\u001b[43mcreateDataFrame\u001b[49m\u001b[43m(\u001b[49m\u001b[43mdatos\u001b[49m\u001b[43m)\u001b[49m\n",
      "File \u001b[1;32m~\\anaconda3\\lib\\site-packages\\pyspark\\sql\\session.py:658\u001b[0m, in \u001b[0;36mSparkSession.createDataFrame\u001b[1;34m(self, data, schema, samplingRatio, verifySchema)\u001b[0m\n\u001b[0;32m    656\u001b[0m \u001b[38;5;28mself\u001b[39m\u001b[38;5;241m.\u001b[39m_jvm\u001b[38;5;241m.\u001b[39mSparkSession\u001b[38;5;241m.\u001b[39msetActiveSession(\u001b[38;5;28mself\u001b[39m\u001b[38;5;241m.\u001b[39m_jsparkSession)\n\u001b[0;32m    657\u001b[0m \u001b[38;5;28;01mif\u001b[39;00m \u001b[38;5;28misinstance\u001b[39m(data, DataFrame):\n\u001b[1;32m--> 658\u001b[0m     \u001b[38;5;28;01mraise\u001b[39;00m \u001b[38;5;167;01mTypeError\u001b[39;00m(\u001b[38;5;124m\"\u001b[39m\u001b[38;5;124mdata is already a DataFrame\u001b[39m\u001b[38;5;124m\"\u001b[39m)\n\u001b[0;32m    660\u001b[0m \u001b[38;5;28;01mif\u001b[39;00m \u001b[38;5;28misinstance\u001b[39m(schema, \u001b[38;5;28mstr\u001b[39m):\n\u001b[0;32m    661\u001b[0m     schema \u001b[38;5;241m=\u001b[39m _parse_datatype_string(schema)\n",
      "\u001b[1;31mTypeError\u001b[0m: data is already a DataFrame"
     ]
    }
   ],
   "source": [
    "import pyspark\n",
    "from pyspark.sql import SparkSession\n",
    "import pandas as pd\n",
    "\n",
    "spark = SparkSession.builder.appName('pandasToSparkDF').getOrCreate()\n",
    "datos = spark.read.csv('players_21.csv')\n",
    "df = spark.createDataFrame(datos)"
   ]
  },
  {
   "cell_type": "code",
   "execution_count": null,
   "id": "886d4fb4",
   "metadata": {},
   "outputs": [],
   "source": []
  },
  {
   "cell_type": "code",
   "execution_count": 8,
   "id": "dd0f2656",
   "metadata": {},
   "outputs": [
    {
     "ename": "AttributeError",
     "evalue": "'DataFrame' object has no attribute 'withColumn'",
     "output_type": "error",
     "traceback": [
      "\u001b[1;31m---------------------------------------------------------------------------\u001b[0m",
      "\u001b[1;31mAttributeError\u001b[0m                            Traceback (most recent call last)",
      "Input \u001b[1;32mIn [8]\u001b[0m, in \u001b[0;36m<cell line: 1>\u001b[1;34m()\u001b[0m\n\u001b[1;32m----> 1\u001b[0m df\u001b[38;5;241m=\u001b[39m\u001b[43mdf\u001b[49m\u001b[38;5;241;43m.\u001b[39;49m\u001b[43mwithColumn\u001b[49m(rank_by_nationality_position\u001b[38;5;241m.\u001b[39mgetName(),row_number()\u001b[38;5;241m.\u001b[39mover(Window\u001b[38;5;241m.\u001b[39mpartitionBy(nationality\u001b[38;5;241m.\u001b[39mcolumn())\u001b[38;5;241m.\u001b[39morderBy(overall \u001b[38;5;241m.\u001b[39mcolumn()\u001b[38;5;241m.\u001b[39mdesc())))\n",
      "File \u001b[1;32m~\\anaconda3\\lib\\site-packages\\pandas\\core\\generic.py:5575\u001b[0m, in \u001b[0;36mNDFrame.__getattr__\u001b[1;34m(self, name)\u001b[0m\n\u001b[0;32m   5568\u001b[0m \u001b[38;5;28;01mif\u001b[39;00m (\n\u001b[0;32m   5569\u001b[0m     name \u001b[38;5;129;01mnot\u001b[39;00m \u001b[38;5;129;01min\u001b[39;00m \u001b[38;5;28mself\u001b[39m\u001b[38;5;241m.\u001b[39m_internal_names_set\n\u001b[0;32m   5570\u001b[0m     \u001b[38;5;129;01mand\u001b[39;00m name \u001b[38;5;129;01mnot\u001b[39;00m \u001b[38;5;129;01min\u001b[39;00m \u001b[38;5;28mself\u001b[39m\u001b[38;5;241m.\u001b[39m_metadata\n\u001b[0;32m   5571\u001b[0m     \u001b[38;5;129;01mand\u001b[39;00m name \u001b[38;5;129;01mnot\u001b[39;00m \u001b[38;5;129;01min\u001b[39;00m \u001b[38;5;28mself\u001b[39m\u001b[38;5;241m.\u001b[39m_accessors\n\u001b[0;32m   5572\u001b[0m     \u001b[38;5;129;01mand\u001b[39;00m \u001b[38;5;28mself\u001b[39m\u001b[38;5;241m.\u001b[39m_info_axis\u001b[38;5;241m.\u001b[39m_can_hold_identifiers_and_holds_name(name)\n\u001b[0;32m   5573\u001b[0m ):\n\u001b[0;32m   5574\u001b[0m     \u001b[38;5;28;01mreturn\u001b[39;00m \u001b[38;5;28mself\u001b[39m[name]\n\u001b[1;32m-> 5575\u001b[0m \u001b[38;5;28;01mreturn\u001b[39;00m \u001b[38;5;28;43mobject\u001b[39;49m\u001b[38;5;241;43m.\u001b[39;49m\u001b[38;5;21;43m__getattribute__\u001b[39;49m\u001b[43m(\u001b[49m\u001b[38;5;28;43mself\u001b[39;49m\u001b[43m,\u001b[49m\u001b[43m \u001b[49m\u001b[43mname\u001b[49m\u001b[43m)\u001b[49m\n",
      "\u001b[1;31mAttributeError\u001b[0m: 'DataFrame' object has no attribute 'withColumn'"
     ]
    }
   ],
   "source": [
    " df=df.withColumn(rank_by_nationality_position.getName(),row_number().over(Window.partitionBy(nationality.column()).orderBy(overall .column().desc())));\n"
   ]
  },
  {
   "cell_type": "code",
   "execution_count": 10,
   "id": "a93d0d0f",
   "metadata": {},
   "outputs": [
    {
     "ename": "AttributeError",
     "evalue": "module 'pandas' has no attribute 'withColumn'",
     "output_type": "error",
     "traceback": [
      "\u001b[1;31m---------------------------------------------------------------------------\u001b[0m",
      "\u001b[1;31mAttributeError\u001b[0m                            Traceback (most recent call last)",
      "Input \u001b[1;32mIn [10]\u001b[0m, in \u001b[0;36m<cell line: 1>\u001b[1;34m()\u001b[0m\n\u001b[1;32m----> 1\u001b[0m df \u001b[38;5;241m=\u001b[39m \u001b[43mpd\u001b[49m\u001b[38;5;241;43m.\u001b[39;49m\u001b[43mwithColumn\u001b[49m(age_range\u001b[38;5;241m.\u001b[39mgetName(), when(df\u001b[38;5;241m.\u001b[39mcolumns(age\u001b[38;5;241m.\u001b[39mcolumn()) \u001b[38;5;241m<\u001b[39m \u001b[38;5;241m23\u001b[39m,\u001b[38;5;124m\"\u001b[39m\u001b[38;5;124mA\u001b[39m\u001b[38;5;124m\"\u001b[39m)\n\u001b[0;32m      2\u001b[0m                 \u001b[38;5;241m.\u001b[39mwhen(df\u001b[38;5;241m.\u001b[39mcolumns(age\u001b[38;5;241m.\u001b[39mcolumn()) \u001b[38;5;241m<\u001b[39m \u001b[38;5;241m27\u001b[39m,\u001b[38;5;124m\"\u001b[39m\u001b[38;5;124mB\u001b[39m\u001b[38;5;124m\"\u001b[39m)\n\u001b[0;32m      3\u001b[0m                 \u001b[38;5;241m.\u001b[39mwhen(df\u001b[38;5;241m.\u001b[39mcolumns(age\u001b[38;5;241m.\u001b[39mcolumn()) \u001b[38;5;241m<\u001b[39m \u001b[38;5;241m32\u001b[39m,\u001b[38;5;124m\"\u001b[39m\u001b[38;5;124mC\u001b[39m\u001b[38;5;124m\"\u001b[39m)\n\u001b[0;32m      4\u001b[0m                 \u001b[38;5;241m.\u001b[39mwhen(df\u001b[38;5;241m.\u001b[39mcolumns(age\u001b[38;5;241m.\u001b[39mcolumn()) \u001b[38;5;241m>\u001b[39m\u001b[38;5;241m=\u001b[39m \u001b[38;5;241m32\u001b[39m,\u001b[38;5;124m\"\u001b[39m\u001b[38;5;124mD\u001b[39m\u001b[38;5;124m\"\u001b[39m)\n\u001b[0;32m      5\u001b[0m                 \u001b[38;5;241m.\u001b[39motherwise(\u001b[38;5;124m\"\u001b[39m\u001b[38;5;124mE\u001b[39m\u001b[38;5;124m\"\u001b[39m))\n",
      "File \u001b[1;32m~\\anaconda3\\lib\\site-packages\\pandas\\__init__.py:261\u001b[0m, in \u001b[0;36m__getattr__\u001b[1;34m(name)\u001b[0m\n\u001b[0;32m    257\u001b[0m     \u001b[38;5;28;01mfrom\u001b[39;00m \u001b[38;5;21;01mpandas\u001b[39;00m\u001b[38;5;21;01m.\u001b[39;00m\u001b[38;5;21;01mcore\u001b[39;00m\u001b[38;5;21;01m.\u001b[39;00m\u001b[38;5;21;01marrays\u001b[39;00m\u001b[38;5;21;01m.\u001b[39;00m\u001b[38;5;21;01msparse\u001b[39;00m \u001b[38;5;28;01mimport\u001b[39;00m SparseArray \u001b[38;5;28;01mas\u001b[39;00m _SparseArray\n\u001b[0;32m    259\u001b[0m     \u001b[38;5;28;01mreturn\u001b[39;00m _SparseArray\n\u001b[1;32m--> 261\u001b[0m \u001b[38;5;28;01mraise\u001b[39;00m \u001b[38;5;167;01mAttributeError\u001b[39;00m(\u001b[38;5;124mf\u001b[39m\u001b[38;5;124m\"\u001b[39m\u001b[38;5;124mmodule \u001b[39m\u001b[38;5;124m'\u001b[39m\u001b[38;5;124mpandas\u001b[39m\u001b[38;5;124m'\u001b[39m\u001b[38;5;124m has no attribute \u001b[39m\u001b[38;5;124m'\u001b[39m\u001b[38;5;132;01m{\u001b[39;00mname\u001b[38;5;132;01m}\u001b[39;00m\u001b[38;5;124m'\u001b[39m\u001b[38;5;124m\"\u001b[39m)\n",
      "\u001b[1;31mAttributeError\u001b[0m: module 'pandas' has no attribute 'withColumn'"
     ]
    }
   ],
   "source": [
    "df = pd.withColumn(age_range.getName(), when(df.columns(age.column()) < 23,\"A\")\n",
    "                .when(df.columns(age.column()) < 27,\"B\")\n",
    "                .when(df.columns(age.column()) < 32,\"C\")\n",
    "                .when(df.columns(age.column()) >= 32,\"D\")\n",
    "                .otherwise(\"E\"));"
   ]
  },
  {
   "cell_type": "code",
   "execution_count": 15,
   "id": "689a21f6",
   "metadata": {},
   "outputs": [
    {
     "name": "stdout",
     "output_type": "stream",
     "text": [
      "DataFrame Original\n",
      "       sofifa_id                                         player_url  \\\n",
      "0         158023  https://sofifa.com/player/158023/lionel-messi/...   \n",
      "1          20801  https://sofifa.com/player/20801/c-ronaldo-dos-...   \n",
      "2         200389  https://sofifa.com/player/200389/jan-oblak/210002   \n",
      "3         188545  https://sofifa.com/player/188545/robert-lewand...   \n",
      "4         190871  https://sofifa.com/player/190871/neymar-da-sil...   \n",
      "...          ...                                                ...   \n",
      "18939     256679  https://sofifa.com/player/256679/kevin-angulo/...   \n",
      "18940     257710  https://sofifa.com/player/257710/mengxuan-zhan...   \n",
      "18941     250989  https://sofifa.com/player/250989/zhenghao-wang...   \n",
      "18942     257697  https://sofifa.com/player/257697/zitong-chen/2...   \n",
      "18943     257936   https://sofifa.com/player/257936/yue-song/210002   \n",
      "\n",
      "              short_name                            long_name  age  \\\n",
      "0               L. Messi       Lionel Andrés Messi Cuccittini   33   \n",
      "1      Cristiano Ronaldo  Cristiano Ronaldo dos Santos Aveiro   35   \n",
      "2               J. Oblak                            Jan Oblak   27   \n",
      "3         R. Lewandowski                   Robert Lewandowski   31   \n",
      "4              Neymar Jr        Neymar da Silva Santos Júnior   28   \n",
      "...                  ...                                  ...  ...   \n",
      "18939          K. Angulo                         Kevin Angulo   24   \n",
      "18940     Zhang Mengxuan                       Mengxuan Zhang   21   \n",
      "18941      Wang Zhenghao                                  王政豪   20   \n",
      "18942        Chen Zitong                          Zitong Chen   23   \n",
      "18943           Song Yue                             Yue Song   28   \n",
      "\n",
      "              dob  height_cm  weight_kg nationality  \\\n",
      "0      1987-06-24        170         72   Argentina   \n",
      "1      1985-02-05        187         83    Portugal   \n",
      "2      1993-01-07        188         87    Slovenia   \n",
      "3      1988-08-21        184         80      Poland   \n",
      "4      1992-02-05        175         68      Brazil   \n",
      "...           ...        ...        ...         ...   \n",
      "18939  1996-04-13        176         73    Colombia   \n",
      "18940  1999-04-26        177         70    China PR   \n",
      "18941  2000-06-28        185         74    China PR   \n",
      "18942  1997-02-20        186         80    China PR   \n",
      "18943  1991-11-20        185         79    China PR   \n",
      "\n",
      "                                 club_name  ...   lwb   ldm   cdm   rdm   rwb  \\\n",
      "0                             FC Barcelona  ...  66+3  65+3  65+3  65+3  66+3   \n",
      "1                                 Juventus  ...  65+3  61+3  61+3  61+3  65+3   \n",
      "2                          Atlético Madrid  ...  32+3  36+3  36+3  36+3  32+3   \n",
      "3                        FC Bayern München  ...  64+3  65+3  65+3  65+3  64+3   \n",
      "4                      Paris Saint-Germain  ...  67+3  62+3  62+3  62+3  67+3   \n",
      "...                                    ...  ...   ...   ...   ...   ...   ...   \n",
      "18939                      América de Cali  ...  47+2  47+2  47+2  47+2  47+2   \n",
      "18940  Chongqing Dangdai Lifan FC SWM Team  ...  42+2  41+2  41+2  41+2  42+2   \n",
      "18941                      Tianjin TEDA FC  ...  42+2  42+2  42+2  42+2  42+2   \n",
      "18942        Shijiazhuang Ever Bright F.C.  ...  47+2  49+2  49+2  49+2  47+2   \n",
      "18943                      Tianjin TEDA FC  ...  47+0  47+0  47+0  47+0  47+0   \n",
      "\n",
      "         lb   lcb    cb   rcb    rb  \n",
      "0      62+3  52+3  52+3  52+3  62+3  \n",
      "1      61+3  54+3  54+3  54+3  61+3  \n",
      "2      32+3  33+3  33+3  33+3  32+3  \n",
      "3      61+3  60+3  60+3  60+3  61+3  \n",
      "4      62+3  49+3  49+3  49+3  62+3  \n",
      "...     ...   ...   ...   ...   ...  \n",
      "18939  47+2  46+2  46+2  46+2  47+2  \n",
      "18940  45+2  47+2  47+2  47+2  45+2  \n",
      "18941  44+2  47+2  47+2  47+2  44+2  \n",
      "18942  47+2  49+2  49+2  49+2  47+2  \n",
      "18943  47+0  46+1  46+1  46+1  47+0  \n",
      "\n",
      "[18944 rows x 106 columns]\n"
     ]
    },
    {
     "ename": "NameError",
     "evalue": "name 'short_name' is not defined",
     "output_type": "error",
     "traceback": [
      "\u001b[1;31m---------------------------------------------------------------------------\u001b[0m",
      "\u001b[1;31mNameError\u001b[0m                                 Traceback (most recent call last)",
      "Input \u001b[1;32mIn [15]\u001b[0m, in \u001b[0;36m<cell line: 6>\u001b[1;34m()\u001b[0m\n\u001b[0;32m      4\u001b[0m \u001b[38;5;28mprint\u001b[39m(\u001b[38;5;124m\"\u001b[39m\u001b[38;5;124mDataFrame Original\u001b[39m\u001b[38;5;124m\"\u001b[39m)\n\u001b[0;32m      5\u001b[0m \u001b[38;5;28mprint\u001b[39m(df)\n\u001b[1;32m----> 6\u001b[0m df\u001b[38;5;241m.\u001b[39mloc(\u001b[43mshort_name\u001b[49m, when(age \u001b[38;5;241m>\u001b[39m \u001b[38;5;241m3\u001b[39m, \u001b[38;5;241m1\u001b[39m)\u001b[38;5;241m.\u001b[39motherwise(\u001b[38;5;241m0\u001b[39m))\u001b[38;5;241m.\u001b[39mshow()\n",
      "\u001b[1;31mNameError\u001b[0m: name 'short_name' is not defined"
     ]
    }
   ],
   "source": [
    "import pandas as pd\n",
    "datos = pd.read_csv('players_21.csv')\n",
    "df=pd.DataFrame(datos)\n",
    "print(\"DataFrame Original\")\n",
    "print(df)"
   ]
  },
  {
   "cell_type": "code",
   "execution_count": 17,
   "id": "860a3484",
   "metadata": {},
   "outputs": [
    {
     "ename": "NameError",
     "evalue": "name 'when' is not defined",
     "output_type": "error",
     "traceback": [
      "\u001b[1;31m---------------------------------------------------------------------------\u001b[0m",
      "\u001b[1;31mNameError\u001b[0m                                 Traceback (most recent call last)",
      "Input \u001b[1;32mIn [17]\u001b[0m, in \u001b[0;36m<cell line: 1>\u001b[1;34m()\u001b[0m\n\u001b[1;32m----> 1\u001b[0m df\u001b[38;5;241m.\u001b[39mloc(\u001b[38;5;124m'\u001b[39m\u001b[38;5;124mshort_name\u001b[39m\u001b[38;5;124m'\u001b[39m, \u001b[43mwhen\u001b[49m(\u001b[38;5;124m'\u001b[39m\u001b[38;5;124mage\u001b[39m\u001b[38;5;124m'\u001b[39m \u001b[38;5;241m>\u001b[39m \u001b[38;5;241m3\u001b[39m, \u001b[38;5;241m1\u001b[39m)\u001b[38;5;241m.\u001b[39motherwise(\u001b[38;5;241m0\u001b[39m))\u001b[38;5;241m.\u001b[39mshow()\n",
      "\u001b[1;31mNameError\u001b[0m: name 'when' is not defined"
     ]
    }
   ],
   "source": [
    "\n",
    "df.loc('short_name', when('age' > 3, 1).otherwise(0)).show()"
   ]
  },
  {
   "cell_type": "code",
   "execution_count": null,
   "id": "aff66f6f",
   "metadata": {},
   "outputs": [],
   "source": []
  }
 ],
 "metadata": {
  "kernelspec": {
   "display_name": "Python 3 (ipykernel)",
   "language": "python",
   "name": "python3"
  },
  "language_info": {
   "codemirror_mode": {
    "name": "ipython",
    "version": 3
   },
   "file_extension": ".py",
   "mimetype": "text/x-python",
   "name": "python",
   "nbconvert_exporter": "python",
   "pygments_lexer": "ipython3",
   "version": "3.9.12"
  }
 },
 "nbformat": 4,
 "nbformat_minor": 5
}
